{
  "nbformat": 4,
  "nbformat_minor": 0,
  "metadata": {
    "colab": {
      "name": "Ejercicio -  Filtrado Colaborativo",
      "provenance": [],
      "collapsed_sections": []
    },
    "kernelspec": {
      "name": "python3",
      "display_name": "Python 3"
    },
    "language_info": {
      "name": "python"
    }
  },
  "cells": [
    {
      "cell_type": "markdown",
      "source": [
        "#Sistemas de recomendación y Filtrado Colaborativo"
      ],
      "metadata": {
        "id": "ZRt0yrfPf6nc"
      }
    },
    {
      "cell_type": "markdown",
      "source": [
        "Importar las librerías necesarias para realizar el las operaciones de filtrado colaborativo."
      ],
      "metadata": {
        "id": "T_vRL7HdhQ0y"
      }
    },
    {
      "cell_type": "code",
      "source": [
        "import pandas as pd\n",
        "import numpy as np\n",
        "from scipy.sparse import csr_matrix\n",
        "from scipy.sparse.linalg import svds"
      ],
      "metadata": {
        "id": "WDWHR7Rpf8Zy"
      },
      "execution_count": null,
      "outputs": []
    },
    {
      "cell_type": "markdown",
      "source": [
        "Esta función normalizará la entrada pred_ratings parámetros:\n",
        "  pred_ratings (calificaciones de predicción)\n",
        "\n"
      ],
      "metadata": {
        "id": "9VsiTcnWhR-A"
      }
    },
    {
      "cell_type": "code",
      "source": [
        "def normalize(pred_ratings):\n",
        "  return (pred_ratings - pred_ratings.min()) / (pred_ratings.max() - pred_ratings.min())"
      ],
      "metadata": {
        "id": "7s2ZOHBITEsX"
      },
      "execution_count": null,
      "outputs": []
    },
    {
      "cell_type": "markdown",
      "source": [
        "Esta función calculará la descomposición de valor único de la matriz de entrada\n",
        "  dados n_factores. Luego generará y normalizará las predicciones de calificación de los usuarios.\n",
        "\n",
        "  **Parámetros:**\n",
        "\n",
        "*   **mat (CSR Matrix)**: matriz scipy csr correspondiente a la tabla dinámica (pt_df) \n",
        "*   **pt_df (DataFrame)**: marco de datos de pandas que es una tabla dinámica\n",
        "*   **n_factors (Integer)** : Número de valores singulares y vectores a calcular.\n",
        "\n",
        "\n",
        "Debe ser 1<= n_factors < min(mat.shape)."
      ],
      "metadata": {
        "id": "M7uG-drChS_I"
      }
    },
    {
      "cell_type": "code",
      "source": [
        "def generate_prediction_df(mat, pt_df, n_factors):\n",
        "\n",
        "  if not 1 <= n_factors < min(mat.shape):\n",
        "   raise ValueError(\"Must be 1 <= n_factors < min(mat.shape)\")\n",
        "  \n",
        "  # Factorización de matrices\n",
        "  u, s, v = svds(mat, k = n_factors)\n",
        "  s = np.diag(s)\n",
        "\n",
        "  # Calcular las calificaciones de pred\n",
        "  pred_ratings = np.dot(np.dot(u, s), v)\n",
        "  pred_ratings = normalize(pred_ratings)\n",
        "\n",
        "  # convertir a df\n",
        "  pred_df = pd.DataFrame(pred_ratings,columns = pt_df.columns, index = list(pt_df.index)).transpose()\n",
        "\n",
        "  return pred_df"
      ],
      "metadata": {
        "id": "fMTB2cD2TIWI"
      },
      "execution_count": null,
      "outputs": []
    },
    {
      "cell_type": "markdown",
      "source": [
        "Dado un usr_id y pred_df, esta función recomendará elementos al usuario.\n",
        "     \n",
        "**Parámetros:**\n",
        "      \n",
        "*   **pred_df (DataFrame)**: generado a partir de la función generate_prediction_df\n",
        "*   **usr_id (Integer)** : El usuario para el que desea obtener recomendaciones de artículos\n",
        "*   **n_recs (Integer)** : El número de recomendaciones que desea para este usuario\n",
        "\n"
      ],
      "metadata": {
        "id": "SuMrlXuPhT2h"
      }
    },
    {
      "cell_type": "code",
      "source": [
        "def recommend_items(pred_df, usr_id, n_recs):\n",
        "\n",
        "  usr_pred = pred_df[usr_id].sort_values(ascending = False).reset_index().rename(columns = {usr_id : 'sim'})\n",
        "  rec_df = usr_pred.sort_values(by = 'sim', ascending = False).head(n_recs)\n",
        "  return rec_df"
      ],
      "metadata": {
        "id": "N_DremMtapWh"
      },
      "execution_count": null,
      "outputs": []
    },
    {
      "cell_type": "code",
      "source": [
        "if __name__ == '__main__':\n",
        "  # constantes\n",
        "  PATH = 'data.csv'\n",
        "  #importar datos\n",
        "  df = pd.read_csv(PATH)\n",
        "  print(df.shape)\n",
        "  # generar una tabla dinámica con lectores en el índice y libros en la columna y los valores sean las calificaciones\n",
        "  pt_df = df.pivot_table(columns = 'book_id',index = 'reader_id', values = 'book_rating').fillna(0)\n",
        "  # convertir a una matriz csr\n",
        "  mat = pt_df.values\n",
        "  mat = csr_matrix(mat)\n",
        "  pred_df = generate_prediction_df(mat, pt_df, 10)\n",
        "  # generar recomendaciones\n",
        "  print(recommend_items(pred_df, 1000, 5))"
      ],
      "metadata": {
        "colab": {
          "base_uri": "https://localhost:8080/"
        },
        "id": "3XdlNPr3aw1-",
        "outputId": "30d8ebc5-f8f0-491e-bb4f-affafffa536f"
      },
      "execution_count": null,
      "outputs": [
        {
          "output_type": "stream",
          "name": "stdout",
          "text": [
            "(100000, 10)\n",
            "   book_id       sim\n",
            "0     1341  0.153466\n",
            "1     1516  0.148940\n",
            "2     1839  0.147120\n",
            "3     1108  0.145674\n",
            "4     1025  0.145550\n"
          ]
        }
      ]
    }
  ]
}